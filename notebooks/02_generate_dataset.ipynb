{
 "cells": [
  {
   "cell_type": "code",
   "execution_count": 21,
   "metadata": {},
   "outputs": [
    {
     "name": "stdout",
     "output_type": "stream",
     "text": [
      "The autoreload extension is already loaded. To reload it, use:\n",
      "  %reload_ext autoreload\n"
     ]
    }
   ],
   "source": [
    "# Importaciones\n",
    "import pandas as pd\n",
    "import sys\n",
    "sys.path.append(\"../\")\n",
    "from src import support_faker as fk\n",
    "import os\n",
    "import dotenv # type: ignore\n",
    "dotenv.load_dotenv()\n",
    "from datetime import datetime\n",
    "\n",
    "\n",
    "import warnings\n",
    "warnings.filterwarnings(\"ignore\")\n",
    "pd.set_option(\"display.max_columns\", None)\n",
    "%load_ext autoreload\n",
    "%autoreload 2"
   ]
  },
  {
   "cell_type": "code",
   "execution_count": 22,
   "metadata": {},
   "outputs": [],
   "source": [
    "df_alumnos = fk.load_data_init_alumnos()"
   ]
  },
  {
   "cell_type": "code",
   "execution_count": 23,
   "metadata": {},
   "outputs": [
    {
     "data": {
      "text/plain": [
       "(9942, 9)"
      ]
     },
     "execution_count": 23,
     "metadata": {},
     "output_type": "execute_result"
    }
   ],
   "source": [
    "df_alumnos.shape"
   ]
  },
  {
   "cell_type": "code",
   "execution_count": 24,
   "metadata": {},
   "outputs": [
    {
     "data": {
      "text/html": [
       "<div>\n",
       "<style scoped>\n",
       "    .dataframe tbody tr th:only-of-type {\n",
       "        vertical-align: middle;\n",
       "    }\n",
       "\n",
       "    .dataframe tbody tr th {\n",
       "        vertical-align: top;\n",
       "    }\n",
       "\n",
       "    .dataframe thead th {\n",
       "        text-align: right;\n",
       "    }\n",
       "</style>\n",
       "<table border=\"1\" class=\"dataframe\">\n",
       "  <thead>\n",
       "    <tr style=\"text-align: right;\">\n",
       "      <th></th>\n",
       "      <th>nombre</th>\n",
       "      <th>apellidos</th>\n",
       "      <th>email</th>\n",
       "      <th>estudios</th>\n",
       "      <th>especialidad</th>\n",
       "      <th>ciudad</th>\n",
       "      <th>edad</th>\n",
       "      <th>telefono</th>\n",
       "      <th>sexo</th>\n",
       "    </tr>\n",
       "  </thead>\n",
       "  <tbody>\n",
       "    <tr>\n",
       "      <th>0</th>\n",
       "      <td>José Manuel</td>\n",
       "      <td>Barba</td>\n",
       "      <td>lbartolome@example.net</td>\n",
       "      <td>Grado</td>\n",
       "      <td>Informatica</td>\n",
       "      <td>Cáceres</td>\n",
       "      <td>42</td>\n",
       "      <td>+34 701 827 349</td>\n",
       "      <td>Hombre</td>\n",
       "    </tr>\n",
       "    <tr>\n",
       "      <th>1</th>\n",
       "      <td>Eufemia</td>\n",
       "      <td>Galvez</td>\n",
       "      <td>trinidad39@example.com</td>\n",
       "      <td>Grado Superior</td>\n",
       "      <td>Ingenieria</td>\n",
       "      <td>Toledo</td>\n",
       "      <td>39</td>\n",
       "      <td>+34 944 75 61 47</td>\n",
       "      <td>Mujer</td>\n",
       "    </tr>\n",
       "    <tr>\n",
       "      <th>2</th>\n",
       "      <td>Celia</td>\n",
       "      <td>Báez</td>\n",
       "      <td>mendizabalarmando@example.org</td>\n",
       "      <td>Grado Superior</td>\n",
       "      <td>Ingenieria</td>\n",
       "      <td>Zaragoza</td>\n",
       "      <td>25</td>\n",
       "      <td>+34 823987698</td>\n",
       "      <td>Mujer</td>\n",
       "    </tr>\n",
       "  </tbody>\n",
       "</table>\n",
       "</div>"
      ],
      "text/plain": [
       "        nombre apellidos                          email        estudios  \\\n",
       "0  José Manuel     Barba         lbartolome@example.net           Grado   \n",
       "1      Eufemia    Galvez         trinidad39@example.com  Grado Superior   \n",
       "2        Celia      Báez  mendizabalarmando@example.org  Grado Superior   \n",
       "\n",
       "  especialidad    ciudad  edad          telefono    sexo  \n",
       "0  Informatica   Cáceres    42   +34 701 827 349  Hombre  \n",
       "1   Ingenieria    Toledo    39  +34 944 75 61 47   Mujer  \n",
       "2   Ingenieria  Zaragoza    25     +34 823987698   Mujer  "
      ]
     },
     "execution_count": 24,
     "metadata": {},
     "output_type": "execute_result"
    }
   ],
   "source": [
    "df_alumnos.head(3)"
   ]
  },
  {
   "cell_type": "code",
   "execution_count": 25,
   "metadata": {},
   "outputs": [
    {
     "data": {
      "text/plain": [
       "(1000, 7)"
      ]
     },
     "execution_count": 25,
     "metadata": {},
     "output_type": "execute_result"
    }
   ],
   "source": [
    "df_leads = fk.load_data_init_leads()\n",
    "df_leads.shape"
   ]
  },
  {
   "cell_type": "code",
   "execution_count": 26,
   "metadata": {},
   "outputs": [
    {
     "data": {
      "text/html": [
       "<div>\n",
       "<style scoped>\n",
       "    .dataframe tbody tr th:only-of-type {\n",
       "        vertical-align: middle;\n",
       "    }\n",
       "\n",
       "    .dataframe tbody tr th {\n",
       "        vertical-align: top;\n",
       "    }\n",
       "\n",
       "    .dataframe thead th {\n",
       "        text-align: right;\n",
       "    }\n",
       "</style>\n",
       "<table border=\"1\" class=\"dataframe\">\n",
       "  <thead>\n",
       "    <tr style=\"text-align: right;\">\n",
       "      <th></th>\n",
       "      <th>nombre</th>\n",
       "      <th>apellidos</th>\n",
       "      <th>email</th>\n",
       "      <th>estudios</th>\n",
       "      <th>especialidad</th>\n",
       "      <th>telefono</th>\n",
       "      <th>sexo</th>\n",
       "    </tr>\n",
       "  </thead>\n",
       "  <tbody>\n",
       "    <tr>\n",
       "      <th>0</th>\n",
       "      <td>Violeta</td>\n",
       "      <td>Téllez</td>\n",
       "      <td>fulgenciomontenegro@example.org</td>\n",
       "      <td>Bachillerato</td>\n",
       "      <td>Letras</td>\n",
       "      <td>+34 928 194 179</td>\n",
       "      <td>Hombre</td>\n",
       "    </tr>\n",
       "    <tr>\n",
       "      <th>1</th>\n",
       "      <td>Atilio</td>\n",
       "      <td>Lerma</td>\n",
       "      <td>abrahamclavero@example.net</td>\n",
       "      <td>Eso</td>\n",
       "      <td>Informatica</td>\n",
       "      <td>+34928590547</td>\n",
       "      <td>Mujer</td>\n",
       "    </tr>\n",
       "    <tr>\n",
       "      <th>2</th>\n",
       "      <td>Maximiano</td>\n",
       "      <td>Meléndez</td>\n",
       "      <td>mcano@example.org</td>\n",
       "      <td>Grado Medio</td>\n",
       "      <td>Informatica</td>\n",
       "      <td>+34 885 736 340</td>\n",
       "      <td>Mujer</td>\n",
       "    </tr>\n",
       "  </tbody>\n",
       "</table>\n",
       "</div>"
      ],
      "text/plain": [
       "      nombre apellidos                            email      estudios  \\\n",
       "0    Violeta    Téllez  fulgenciomontenegro@example.org  Bachillerato   \n",
       "1     Atilio     Lerma       abrahamclavero@example.net           Eso   \n",
       "2  Maximiano  Meléndez                mcano@example.org   Grado Medio   \n",
       "\n",
       "  especialidad         telefono    sexo  \n",
       "0       Letras  +34 928 194 179  Hombre  \n",
       "1  Informatica     +34928590547   Mujer  \n",
       "2  Informatica  +34 885 736 340   Mujer  "
      ]
     },
     "execution_count": 26,
     "metadata": {},
     "output_type": "execute_result"
    }
   ],
   "source": [
    "df_leads.head(3)"
   ]
  },
  {
   "cell_type": "code",
   "execution_count": 27,
   "metadata": {},
   "outputs": [],
   "source": [
    "df_leads, df_alumnos = fk.remove_duplicates(df_leads, df_alumnos)"
   ]
  },
  {
   "cell_type": "code",
   "execution_count": 28,
   "metadata": {},
   "outputs": [
    {
     "data": {
      "text/plain": [
       "(989, 7)"
      ]
     },
     "execution_count": 28,
     "metadata": {},
     "output_type": "execute_result"
    }
   ],
   "source": [
    "df_leads.shape"
   ]
  },
  {
   "cell_type": "code",
   "execution_count": 29,
   "metadata": {},
   "outputs": [
    {
     "data": {
      "text/plain": [
       "(9931, 9)"
      ]
     },
     "execution_count": 29,
     "metadata": {},
     "output_type": "execute_result"
    }
   ],
   "source": [
    "df_alumnos.shape"
   ]
  },
  {
   "cell_type": "code",
   "execution_count": 30,
   "metadata": {},
   "outputs": [],
   "source": [
    "fecha_hoy = datetime.today().strftime('%Y-%m-%d')\n",
    "df_leads.to_csv(f\"../data/leads_{fecha_hoy}.csv\", index=True, header=True)\n",
    "df_alumnos.to_csv(f\"../data/alumnos_{fecha_hoy}.csv\", index=True, header=True)"
   ]
  }
 ],
 "metadata": {
  "kernelspec": {
   "display_name": "Python 3",
   "language": "python",
   "name": "python3"
  },
  "language_info": {
   "codemirror_mode": {
    "name": "ipython",
    "version": 3
   },
   "file_extension": ".py",
   "mimetype": "text/x-python",
   "name": "python",
   "nbconvert_exporter": "python",
   "pygments_lexer": "ipython3",
   "version": "3.12.5"
  }
 },
 "nbformat": 4,
 "nbformat_minor": 2
}
