{
 "cells": [
  {
   "cell_type": "code",
   "execution_count": 1,
   "metadata": {},
   "outputs": [],
   "source": [
    "# Importaciones\n",
    "import pandas as pd\n",
    "import sys\n",
    "sys.path.append(\"../\")\n",
    "from src import support_open_ai as sp\n",
    "import os\n",
    "import dotenv # type: ignore\n",
    "dotenv.load_dotenv()\n",
    "\n",
    "import warnings\n",
    "warnings.filterwarnings(\"ignore\")\n",
    "pd.set_option(\"display.max_columns\", None)\n",
    "%load_ext autoreload\n",
    "%autoreload 2"
   ]
  },
  {
   "cell_type": "code",
   "execution_count": 2,
   "metadata": {},
   "outputs": [],
   "source": [
    "openai_client = sp.init_openai()"
   ]
  },
  {
   "cell_type": "code",
   "execution_count": 3,
   "metadata": {},
   "outputs": [],
   "source": [
    "list_my_assistants = sp.list_asisstants(openai_client)"
   ]
  },
  {
   "cell_type": "code",
   "execution_count": 4,
   "metadata": {},
   "outputs": [],
   "source": [
    "my_assistant = sp.get_assistant(openai_client, os.getenv(\"OPENAI_API_ASSIS\"))"
   ]
  },
  {
   "cell_type": "code",
   "execution_count": 5,
   "metadata": {},
   "outputs": [],
   "source": [
    "thread = sp.create_thread(openai_client)"
   ]
  },
  {
   "cell_type": "code",
   "execution_count": 6,
   "metadata": {},
   "outputs": [
    {
     "name": "stdout",
     "output_type": "stream",
     "text": [
      "Esperando a que se complete...\n",
      "se completó exitosamente.\n",
      "Thread ID: thread_mAJGjNW2BZ3f7Cld0GH9hkAc\n",
      "Run ID: run_pGjG8uhxCkPgXES15DiGh0cT\n",
      "Run Status: completed\n",
      "Respuesta del asistente:\n",
      "¡Hola! ¿En qué puedo ayudarte hoy? Si tienes preguntas sobre el curso de Desarrollador Full Stack, estaré encantado de responderte.\n"
     ]
    }
   ],
   "source": [
    "message =\"Hola\"\n",
    "sp.process_data(openai_client, my_assistant.id, thread.id, message)"
   ]
  },
  {
   "cell_type": "code",
   "execution_count": 7,
   "metadata": {},
   "outputs": [
    {
     "name": "stdout",
     "output_type": "stream",
     "text": [
      "Esperando a que se complete...\n",
      "Esperando a que se complete...\n",
      "se completó exitosamente.\n",
      "Thread ID: thread_mAJGjNW2BZ3f7Cld0GH9hkAc\n",
      "Run ID: run_fgIzl4btsrnUgntC5Pmdy6dU\n",
      "Run Status: completed\n",
      "Respuesta del asistente:\n",
      "El precio del curso de Desarrollador Full Stack varía dependiendo de la modalidad de pago que elijas. Ofrecen varias opciones, incluyendo:\n",
      "\n",
      "1. Un único pago.\n",
      "2. Pago a plazos.\n",
      "3. Paga cuando encuentres trabajo.\n",
      "\n",
      "Si deseas más detalles sobre el costo específico o las opciones de pago, puedo ayudarte a aclarar cualquier duda que tengas. ¿Te gustaría saber algo más sobre el curso o el proceso de inscripción?【6:10†source】.\n"
     ]
    }
   ],
   "source": [
    "message =\"precio del curso Desarrollador Full Stack\"\n",
    "sp.process_data(openai_client, my_assistant.id, thread.id, message)"
   ]
  },
  {
   "cell_type": "code",
   "execution_count": 8,
   "metadata": {},
   "outputs": [
    {
     "name": "stdout",
     "output_type": "stream",
     "text": [
      "Esperando a que se complete...\n",
      "Esperando a que se complete...\n",
      "Esperando a que se complete...\n",
      "se completó exitosamente.\n",
      "Thread ID: thread_mAJGjNW2BZ3f7Cld0GH9hkAc\n",
      "Run ID: run_YPe3hOG9fV8SkYGtygpLnPqx\n",
      "Run Status: completed\n",
      "Respuesta del asistente:\n",
      "Aquí tienes toda la información sobre el curso de Desarrollador Full Stack:\n",
      "\n",
      "### Descripción General\n",
      "El programa está diseñado para convertirte en un Desarrollador Full Stack en un período de 4 a 12 meses, dependiendo de tu dedicación. Está compuesto por más de 900 horas de contenido actualizado, que incluye 100 horas de video y aproximadamente 800 horas de trabajo personal.\n",
      "\n",
      "### Metodología\n",
      "- **Formato**: 100% online, lo que te permite avanzar a tu propio ritmo.\n",
      "- **Compromiso**: Se recomienda dedicar entre 5 y 7 horas diarias al estudio.\n",
      "- **Flexibilidad**: Puedes adaptar el programa a tu rutina personal.\n",
      "\n",
      "### Estructura del Curso\n",
      "El curso incluye múltiples módulos, que abarcan desde conceptos básicos hasta avanzados:\n",
      "1. **Introducción a la Programación**: Fundamentos y terminología.\n",
      "2. **JavaScript y Programación Asincrónica**: Desde lo básico hasta técnicas avanzadas.\n",
      "3. **Desarrollo Frontend**: Uso de ReactJS, diseño responsivo, y más.\n",
      "4. **Backend**: Construcción de APIs REST y gestión de bases de datos.\n",
      "5. **Integración Full Stack**: Combina frontend y backend.\n",
      "6. **Empleabilidad**: Preparación para el mercado laboral y clases en directo.\n",
      "\n",
      "### Especializaciones\n",
      "Al finalizar el curso, puedes elegir una especialización entre:\n",
      "- IA Developer\n",
      "- Advanced Web Technologies\n",
      "- UX Engineer\n",
      "\n",
      "### Certificaciones\n",
      "Al completar el curso, obtendrás dos títulos: uno como Desarrollador Full Stack y otro en la especialización que elijas.\n",
      "\n",
      "### Salidas Profesionales\n",
      "Las salidas laborales incluyen roles como:\n",
      "- Frontend Developer\n",
      "- Backend Developer\n",
      "- Full Stack Developer\n",
      "- IA Developer\n",
      "- UX Engineer, entre otros.\n",
      "\n",
      "### Precio\n",
      "El curso ofrece varias opciones de pago:\n",
      "1. Un único pago.\n",
      "2. Pago a plazos.\n",
      "3. Paga cuando encuentres trabajo.\n",
      "\n",
      "### Asesoría y Soporte\n",
      "El programa incluye tres sesiones de empleabilidad para ayudarte a construir tu CV y prepararte para entrevistas. Además, tendrás acceso a un portal de empleo con ofertas de empresas colaboradoras.\n",
      "\n",
      "Si necesitas más detalles sobre alguno de estos aspectos o deseas iniciar el proceso de inscripción, ¡házmelo saber! Estoy aquí para ayudarte.【10:0†source】.\n"
     ]
    }
   ],
   "source": [
    "message =\"Dame toda la información sobre el curso disponible de todos los cursos\"\n",
    "sp.process_data(openai_client, my_assistant.id, thread.id, message)"
   ]
  },
  {
   "cell_type": "code",
   "execution_count": 9,
   "metadata": {},
   "outputs": [
    {
     "name": "stdout",
     "output_type": "stream",
     "text": [
      "Esperando a que se complete...\n",
      "se completó exitosamente.\n",
      "Thread ID: thread_mAJGjNW2BZ3f7Cld0GH9hkAc\n",
      "Run ID: run_yiECcLou2xNsCWdXCea3xNcT\n",
      "Run Status: completed\n",
      "Respuesta del asistente:\n",
      "Lo siento, pero solo tengo información disponible sobre el curso de Desarrollador Full Stack. Si tienes preguntas sobre ese curso o necesitas más detalles, estaré encantado de ayudarte. ¿Te gustaría saber algo más sobre el curso de Desarrollador Full Stack?\n"
     ]
    }
   ],
   "source": [
    "message =\"Dame toda la información sobre el curso de SEO\"\n",
    "sp.process_data(openai_client, my_assistant.id, thread.id, message)"
   ]
  },
  {
   "cell_type": "code",
   "execution_count": 10,
   "metadata": {},
   "outputs": [
    {
     "name": "stdout",
     "output_type": "stream",
     "text": [
      "Esperando a que se complete...\n",
      "Esperando a que se complete...\n",
      "Esperando a que se complete...\n",
      "Esperando a que se complete...\n",
      "Esperando a que se complete...\n",
      "Esperando a que se complete...\n",
      "se completó exitosamente.\n",
      "Thread ID: thread_mAJGjNW2BZ3f7Cld0GH9hkAc\n",
      "Run ID: run_HnG70iKrvKhloOPuPvOD4Evp\n",
      "Run Status: completed\n",
      "Respuesta del asistente:\n",
      "Aquí tienes una descripción detallada de los módulos del curso de Desarrollador Full Stack:\n",
      "\n",
      "### Módulo 0: Conceptos del Desarrollo Web\n",
      "- Instalaciones para Windows y MacOS.\n",
      "- Introducción a la estructura y expectativas del curso.\n",
      "\n",
      "### Módulo 1: Arquitectura de la Información\n",
      "- Estructura básica de un documento HTML.\n",
      "- Formularios y estructuras HTML5.\n",
      "- Aseguramiento de la accesibilidad y usabilidad en la web.\n",
      "\n",
      "### Módulo 2: Diseño de Aplicaciones Web\n",
      "- Diseño responsivo con herramientas como Tailwind y SCSS.\n",
      "- Prácticas de diseño responsivo.\n",
      "- Conceptos y estructuras de Flex y Grid.\n",
      "\n",
      "### Módulo 3: JavaScript\n",
      "- Introducción a los conceptos básicos y avanzados de JavaScript.\n",
      "- Programación asincrónica y uso de VITE.\n",
      "- Navegadores y programación orientada a objetos (POO) en JavaScript.\n",
      "\n",
      "### Módulo 4: DOM & JavaScript Components\n",
      "- Manipulación del DOM y creación de componentes reutilizables.\n",
      "- Introducción a SCSS y creación de elementos en Figma.\n",
      "\n",
      "### Módulo 5: NodeJS\n",
      "- Fundamentos de NodeJS y su uso para construir aplicaciones del lado del servidor.\n",
      "- Introducción a MongoDB y prácticas con archivos CSV.\n",
      "\n",
      "### Módulo 6: Backend\n",
      "- Creación de APIs REST y gestión de bases de datos con MongoDB.\n",
      "- Implementación de mecanismos de autenticación y autorización.\n",
      "\n",
      "### Módulo 7: ReactJS\n",
      "- Construcción de interfaces de usuario dinámicas usando ReactJS.\n",
      "- Aprendizaje de conceptos como React Router, Hooks y Forms.\n",
      "\n",
      "### Módulo 8: Frontend\n",
      "- Integración de ReactJS con otras tecnologías y mejores prácticas para un desarrollo eficiente.\n",
      "- Uso de herramientas como Eslint y Prettier, y desarrollo de un proyecto de frontend.\n",
      "\n",
      "### Módulo 9: Full Stack Developer\n",
      "- Integración de todos los conocimientos adquiridos para manejar proyectos completos.\n",
      "- Introducción a Markdown, conceptos avanzados de Git, y pruebas (Testing) en frontend y backend.\n",
      "- Implementación de CI/CD (Integración Continua y Despliegue Continuo).\n",
      "\n",
      "### Módulo 10: Empleabilidad\n",
      "- Preparación para el mercado laboral, incluyendo desarrollo de CV y estrategias de entrevistas.\n",
      "\n",
      "### Módulo 11: Clases en Directo\n",
      "- Clases interactivas en vivo para reforzar el aprendizaje y resolver dudas.\n",
      "\n",
      "### Especialización\n",
      "Al finalizar el curso, tendrás la opción de especializarte en:\n",
      "- IA Developer\n",
      "- Advanced Web Technologies\n",
      "- UX Engineer\n",
      "\n",
      "Cada módulo está diseñado para ofrecer una formación completa y práctica, asegurando que adquieras las habilidades necesarias para tener éxito como Desarrollador Full Stack【16:1†source】【16:2†source】【16:4†source】. \n",
      "\n",
      "Si necesitas más información sobre un módulo específico o cualquier otro aspecto del curso, ¡no dudes en preguntar!\n"
     ]
    }
   ],
   "source": [
    "message =\"amplia información sobre los modulos del curso\"\n",
    "sp.process_data(openai_client, my_assistant.id, thread.id, message)"
   ]
  },
  {
   "cell_type": "code",
   "execution_count": 11,
   "metadata": {},
   "outputs": [
    {
     "name": "stdout",
     "output_type": "stream",
     "text": [
      "Esperando a que se complete...\n",
      "se completó exitosamente.\n",
      "Thread ID: thread_mAJGjNW2BZ3f7Cld0GH9hkAc\n",
      "Run ID: run_nevCNaRfWEUHXk0c8aEulcUU\n",
      "Run Status: completed\n",
      "Respuesta del asistente:\n",
      "Toda la información que te he proporcionado proviene del fichero que has subido. Estoy utilizando los datos disponibles en ese documento para responder a tus preguntas sobre el curso de Desarrollador Full Stack. Si hay algo más que te gustaría saber o si necesitas aclaraciones sobre algún punto específico, ¡estaré encantado de ayudarte!\n"
     ]
    }
   ],
   "source": [
    "message =\"¿Estas dandome la informacion solo del fichero que tienes o estas autogenerando algo?\"\n",
    "sp.process_data(openai_client, my_assistant.id, thread.id, message)"
   ]
  },
  {
   "cell_type": "code",
   "execution_count": 12,
   "metadata": {},
   "outputs": [
    {
     "name": "stdout",
     "output_type": "stream",
     "text": [
      "Esperando a que se complete...\n",
      "Esperando a que se complete...\n",
      "se completó exitosamente.\n",
      "Thread ID: thread_mAJGjNW2BZ3f7Cld0GH9hkAc\n",
      "Run ID: run_NXz0kgGpoYuQFIS4xzeyZgtr\n",
      "Run Status: completed\n",
      "Respuesta del asistente:\n",
      "Lo siento, pero mi enfoque se limita a proporcionar información sobre el curso de Desarrollador Full Stack. Si tienes preguntas sobre ese curso o necesitas detalles adicionales, estaré encantado de ayudarte. ¿Te gustaría saber más sobre el curso de Desarrollador Full Stack?\n"
     ]
    }
   ],
   "source": [
    "message =\"¿Que es una IA?\"\n",
    "sp.process_data(openai_client, my_assistant.id, thread.id, message)"
   ]
  }
 ],
 "metadata": {
  "kernelspec": {
   "display_name": "Python 3",
   "language": "python",
   "name": "python3"
  },
  "language_info": {
   "codemirror_mode": {
    "name": "ipython",
    "version": 3
   },
   "file_extension": ".py",
   "mimetype": "text/x-python",
   "name": "python",
   "nbconvert_exporter": "python",
   "pygments_lexer": "ipython3",
   "version": "3.12.5"
  }
 },
 "nbformat": 4,
 "nbformat_minor": 2
}
