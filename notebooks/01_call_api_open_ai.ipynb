{
 "cells": [
  {
   "cell_type": "code",
   "execution_count": 1,
   "metadata": {},
   "outputs": [],
   "source": [
    "# Importaciones\n",
    "import pandas as pd\n",
    "import sys\n",
    "sys.path.append(\"../\")\n",
    "from src import support_open_ai as sp\n",
    "import os\n",
    "import dotenv # type: ignore\n",
    "dotenv.load_dotenv()\n",
    "\n",
    "import warnings\n",
    "warnings.filterwarnings(\"ignore\")\n",
    "pd.set_option(\"display.max_columns\", None)\n",
    "%load_ext autoreload\n",
    "%autoreload 2"
   ]
  },
  {
   "cell_type": "code",
   "execution_count": 2,
   "metadata": {},
   "outputs": [],
   "source": [
    "openai_client = sp.init_openai()"
   ]
  },
  {
   "cell_type": "code",
   "execution_count": 3,
   "metadata": {},
   "outputs": [],
   "source": [
    "list_my_assistants = sp.list_asisstants(openai_client)"
   ]
  },
  {
   "cell_type": "code",
   "execution_count": 4,
   "metadata": {},
   "outputs": [],
   "source": [
    "my_assistant = sp.get_assistant(openai_client, os.getenv(\"OPENAI_API_ASSIS\"))"
   ]
  },
  {
   "cell_type": "code",
   "execution_count": 5,
   "metadata": {},
   "outputs": [],
   "source": [
    "thread = sp.create_thread(openai_client)"
   ]
  },
  {
   "cell_type": "code",
   "execution_count": 6,
   "metadata": {},
   "outputs": [
    {
     "name": "stdout",
     "output_type": "stream",
     "text": [
      "Esperando a que se complete...\n",
      "Esperando a que se complete...\n",
      "se completó exitosamente.\n",
      "Thread ID: thread_g2w2LsTH7dCMqdMcNWzq2cqt\n",
      "Run ID: run_u9xVXKV0Y4JUcsIOIFszu4yl\n",
      "Run Status: completed\n",
      "Respuesta del asistente:\n",
      "¡Hola! Soy tu asistente virtual y estoy aquí para ayudarte a conocer más sobre nuestro curso de **Desarrollador Full Stack**. ¿Qué te gustaría saber sobre el programa? ¿Estás interesado en algún aspecto específico, como el contenido, la duración o las salidas laborales?\n"
     ]
    }
   ],
   "source": [
    "message =\"Desarrollador Full Stack\"\n",
    "sp.process_data(openai_client, my_assistant.id, thread.id, message)"
   ]
  },
  {
   "cell_type": "code",
   "execution_count": 7,
   "metadata": {},
   "outputs": [
    {
     "name": "stdout",
     "output_type": "stream",
     "text": [
      "Esperando a que se complete...\n",
      "Esperando a que se complete...\n",
      "se completó exitosamente.\n",
      "Thread ID: thread_g2w2LsTH7dCMqdMcNWzq2cqt\n",
      "Run ID: run_ilgW9gPiIhmQ98ldnlb2R6QY\n",
      "Run Status: completed\n",
      "Respuesta del asistente:\n",
      "El precio del curso de **Desarrollador Full Stack** incluye diferentes opciones de pago, lo que te permite elegir la que mejor se adapte a tus necesidades. Puedes optar por un único pago, pagos a plazos o incluso pagar cuando encuentres trabajo. Sin embargo, el documento no especifica una cifra exacta para el precio del curso.\n",
      "\n",
      "Además, el programa ofrece la posibilidad de conseguir dos títulos al finalizar, lo que añade un gran valor a la inversión realizada【8:10†source】.\n",
      "\n",
      "Si deseas más información sobre las opciones de pago o cualquier otra consulta, ¡estaré encantado de ayudarte!\n"
     ]
    }
   ],
   "source": [
    "message =\"precio del curso Desarrollador Full Stack\"\n",
    "sp.process_data(openai_client, my_assistant.id, thread.id, message)"
   ]
  },
  {
   "cell_type": "code",
   "execution_count": 8,
   "metadata": {},
   "outputs": [
    {
     "name": "stdout",
     "output_type": "stream",
     "text": [
      "Esperando a que se complete...\n",
      "Esperando a que se complete...\n",
      "Esperando a que se complete...\n",
      "Esperando a que se complete...\n",
      "Esperando a que se complete...\n",
      "se completó exitosamente.\n",
      "Thread ID: thread_g2w2LsTH7dCMqdMcNWzq2cqt\n",
      "Run ID: run_kKu9mzda0g4OtMN6CLIRAunG\n",
      "Run Status: completed\n",
      "Respuesta del asistente:\n",
      "Aquí tienes toda la información disponible sobre el curso de **Desarrollador Full Stack**:\n",
      "\n",
      "### Descripción del Curso\n",
      "El programa está diseñado para capacitar a los estudiantes en el desarrollo web full stack, abarcando tanto el frontend como el backend. Se compone de más de 900 horas de contenido actualizado, incluyendo 100 horas de video y 800 horas de trabajo personal. La duración del curso es de **4 a 12 meses**, dependiendo de la dedicación del estudiante (5 a 7 horas diarias)【12:0†source】.\n",
      "\n",
      "### Estructura del Curso\n",
      "1. **Módulo 0**: Conceptos del Desarrollo Web\n",
      "2. **Módulo 1**: Arquitectura de la Información\n",
      "3. **Módulo 2**: Diseño de Aplicaciones Web\n",
      "4. **Módulo 3**: JavaScript\n",
      "5. **Módulo 4**: DOM & JavaScript Components\n",
      "6. **Módulo 5**: NodeJS\n",
      "7. **Módulo 6**: Backend\n",
      "8. **Módulo 7**: ReactJS\n",
      "9. **Módulo 8**: Frontend\n",
      "10. **Módulo 9**: Full Stack Developer\n",
      "11. **Módulo 10**: Empleabilidad\n",
      "12. **Módulo 11**: Clases en Directo【12:1†source】【12:4†source】.\n",
      "\n",
      "### Especializaciones\n",
      "Al finalizar la parte troncal, podrás elegir una especialización en:\n",
      "- IA Developer\n",
      "- Advanced Web Technologies\n",
      "- UX Engineer【12:8†source】【12:4†source】.\n",
      "\n",
      "### Metodología\n",
      "- **Modalidad 100% online**: Permite a los estudiantes avanzar a su propio ritmo.\n",
      "- **Clases en directo**: Facilitan la interacción con instructores y compañeros.\n",
      "- **Proyectos prácticos**: Ayudan a aplicar lo aprendido en situaciones reales.\n",
      "- **Evaluaciones continuas**: Tests al final de cada bloque para asegurar la comprensión【12:2†source】【12:4†source】.\n",
      "\n",
      "### Certificación\n",
      "Al finalizar el curso, recibirás dos títulos: uno como Desarrollador Full Stack y otro en la especialización elegida【12:0†source】【12:4†source】.\n",
      "\n",
      "### Salidas Profesionales\n",
      "Este curso prepara a los estudiantes para diversas posiciones en el mercado laboral, como:\n",
      "- Frontend Developer\n",
      "- Backend Developer\n",
      "- Full Stack Developer\n",
      "- IA Developer\n",
      "- UX Engineer【12:8†source】.\n",
      "\n",
      "### Proceso de Inscripción y Pago\n",
      "Ofrecemos varias opciones de pago:\n",
      "1. Un único pago\n",
      "2. Pago a plazos\n",
      "3. Paga cuando encuentres trabajo【12:10†source】.\n",
      "\n",
      "Si tienes más preguntas o necesitas ayuda con la inscripción, ¡házmelo saber! Estoy aquí para ayudarte.\n"
     ]
    }
   ],
   "source": [
    "message =\"Dame toda la información sobre el curso disponible de todos los cursos\"\n",
    "sp.process_data(openai_client, my_assistant.id, thread.id, message)"
   ]
  }
 ],
 "metadata": {
  "kernelspec": {
   "display_name": "Python 3",
   "language": "python",
   "name": "python3"
  },
  "language_info": {
   "codemirror_mode": {
    "name": "ipython",
    "version": 3
   },
   "file_extension": ".py",
   "mimetype": "text/x-python",
   "name": "python",
   "nbconvert_exporter": "python",
   "pygments_lexer": "ipython3",
   "version": "3.12.5"
  }
 },
 "nbformat": 4,
 "nbformat_minor": 2
}
