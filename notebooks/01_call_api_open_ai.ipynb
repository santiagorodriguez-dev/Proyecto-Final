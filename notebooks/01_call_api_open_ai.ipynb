{
 "cells": [
  {
   "cell_type": "code",
   "execution_count": 1,
   "metadata": {},
   "outputs": [],
   "source": [
    "# Importaciones\n",
    "import pandas as pd\n",
    "import sys\n",
    "sys.path.append(\"../\")\n",
    "from src import support_open_ai as sp\n",
    "\n",
    "import warnings\n",
    "warnings.filterwarnings(\"ignore\")\n",
    "pd.set_option(\"display.max_columns\", None)\n",
    "%load_ext autoreload\n",
    "%autoreload 2"
   ]
  },
  {
   "cell_type": "code",
   "execution_count": 2,
   "metadata": {},
   "outputs": [],
   "source": [
    "openai_client = sp.init_openai()"
   ]
  },
  {
   "cell_type": "code",
   "execution_count": 3,
   "metadata": {},
   "outputs": [],
   "source": [
    "list_my_assistants = sp.list_asisstants(openai_client)"
   ]
  },
  {
   "cell_type": "code",
   "execution_count": 4,
   "metadata": {},
   "outputs": [],
   "source": [
    "my_assistant = sp.get_assistant(openai_client, \"asst_wZA20BQRA3ytTt0LrNp1E6NB\")"
   ]
  },
  {
   "cell_type": "code",
   "execution_count": 5,
   "metadata": {},
   "outputs": [],
   "source": [
    "thread = sp.create_thread(openai_client)"
   ]
  },
  {
   "cell_type": "code",
   "execution_count": 8,
   "metadata": {},
   "outputs": [
    {
     "name": "stdout",
     "output_type": "stream",
     "text": [
      "Esperando a que se complete...\n",
      "Esperando a que se complete...\n",
      "Esperando a que se complete...\n",
      "Esperando a que se complete...\n",
      "Esperando a que se complete...\n",
      "se completó exitosamente.\n",
      "Thread ID: thread_898VoFcybqUeoiLSa2XqRlVE\n",
      "Run ID: run_pBlwAHdvtxUs2B4CTGkS4LOn\n",
      "Run Status: completed\n",
      "Respuesta del asistente:\n",
      "¡Excelente elección! El curso de **Desarrollador Full Stack** es una opción fantástica si quieres adquirir habilidades en el desarrollo de aplicaciones web. Aquí tienes más detalles sobre el curso:\n",
      "\n",
      "### Información del Curso de Desarrollador Full Stack:\n",
      "- **Duración**: Este curso tiene una duración estimada de entre 4 a 12 meses, dependiendo de cuánto tiempo le dediques. Puedes avanzar a tu propio ritmo, ya que es 100% online.\n",
      "- **Contenido**: El curso abarca más de 900 horas de contenido, incluyendo:\n",
      "  - Arquitectura de la Información\n",
      "  - Diseño de Aplicaciones Web\n",
      "  - JavaScript, NodeJS, ReactJS\n",
      "  - Y mucho más.\n",
      "- **Certificación**: Al finalizar el curso, recibirás dos títulos: uno como Desarrollador Full Stack y otro en la especialización que elijas (IA Developer, Advanced Web Technologies o UX Engineer).\n",
      "- **Costo**: Ofrecemos varias opciones de pago, incluyendo pago único, pago a plazos y una opción de pago cuando encuentres trabajo, lo que facilita la inversión en tu formación.\n",
      "\n",
      "### Beneficios:\n",
      "- Aprenderás habilidades muy demandadas en el mercado laboral.\n",
      "- Acceso a una comunidad de estudiantes y profesionales para networking.\n",
      "- Flexibilidad para estudiar desde cualquier lugar y en cualquier momento.\n",
      "\n",
      "¿Tienes alguna pregunta específica sobre el contenido o el proceso de inscripción? ¡Estoy aquí para ayudarte!\n"
     ]
    }
   ],
   "source": [
    "message =\"Desarrollador Full Stack\"\n",
    "sp.process_data(openai_client, my_assistant.id, thread.id, message)"
   ]
  },
  {
   "cell_type": "code",
   "execution_count": 9,
   "metadata": {},
   "outputs": [
    {
     "name": "stdout",
     "output_type": "stream",
     "text": [
      "Esperando a que se complete...\n",
      "Esperando a que se complete...\n",
      "se completó exitosamente.\n",
      "Thread ID: thread_898VoFcybqUeoiLSa2XqRlVE\n",
      "Run ID: run_E4pACCIZRSEsEzNYpPGaWWKd\n",
      "Run Status: completed\n",
      "Respuesta del asistente:\n",
      "El precio del curso de **Desarrollador Full Stack** puede variar según la modalidad de pago que elijas. Aquí están las opciones disponibles:\n",
      "\n",
      "1. **Pago Único**: Realizas un solo pago al inicio del curso.\n",
      "2. **Pago a Plazos**: Puedes dividir el costo total en varias cuotas, lo que facilita el pago a lo largo del tiempo.\n",
      "3. **Pago al Encontrar Trabajo**: Esta opción te permite empezar a estudiar sin pagar nada hasta que consigas un empleo en el área de desarrollo.\n",
      "\n",
      "Para obtener el precio exacto del curso, es mejor que consultes directamente en nuestra plataforma o sitio web, ya que puede haber promociones o descuentos disponibles.\n",
      "\n",
      "¿Te gustaría que te ayude con el proceso de inscripción o tienes alguna otra pregunta?\n"
     ]
    }
   ],
   "source": [
    "message =\"precio del curso Desarrollador Full Stack\"\n",
    "sp.process_data(openai_client, my_assistant.id, thread.id, message)"
   ]
  },
  {
   "cell_type": "code",
   "execution_count": 10,
   "metadata": {},
   "outputs": [
    {
     "name": "stdout",
     "output_type": "stream",
     "text": [
      "Esperando a que se complete...\n",
      "Esperando a que se complete...\n",
      "Esperando a que se complete...\n",
      "Esperando a que se complete...\n",
      "Esperando a que se complete...\n",
      "se completó exitosamente.\n",
      "Thread ID: thread_898VoFcybqUeoiLSa2XqRlVE\n",
      "Run ID: run_whaExXhvw1V7lFLmcb5OM5Xp\n",
      "Run Status: completed\n",
      "Respuesta del asistente:\n",
      "Aquí tienes toda la información sobre el curso disponible de **Desarrollador Full Stack**, así como otros aspectos relevantes del programa:\n",
      "\n",
      "### Curso de Desarrollador Full Stack\n",
      "\n",
      "#### Duración\n",
      "- Entre 4 a 12 meses, dependiendo de la dedicación. Se recomienda dedicar entre 5 y 7 horas diarias.\n",
      "\n",
      "#### Contenido del Curso\n",
      "- **Total de horas**: Más de 900 horas de contenido actualizado.\n",
      "- **Módulos principales**:\n",
      "  1. **Conceptos del Desarrollo Web**: Estructura y organización del contenido usando HTML.\n",
      "  2. **Diseño de Aplicaciones Web**: Responsividad y uso de herramientas modernas (Tailwind, SCSS).\n",
      "  3. **JavaScript**: Desde conceptos básicos hasta técnicas avanzadas de programación asincrónica.\n",
      "  4. **DOM & JavaScript Components**: Manipulación del DOM y creación de componentes reutilizables.\n",
      "  5. **NodeJS**: Construcción de aplicaciones del lado del servidor.\n",
      "  6. **Backend**: Creación de APIs REST y gestión de bases de datos.\n",
      "  7. **ReactJS**: Construcción de interfaces de usuario dinámicas.\n",
      "  8. **Clases de Empleabilidad**: Preparación para el mercado laboral, incluyendo estrategia de CV y entrevistas【14:2†source】【14:8†source】.\n",
      "\n",
      "#### Especializaciones\n",
      "Al finalizar el curso, puedes elegir una de estas especializaciones:\n",
      "- **IA Developer**\n",
      "- **Advanced Web Technologies**\n",
      "- **UX Engineer**\n",
      "\n",
      "#### Certificación\n",
      "- Al finalizar el curso, recibirás dos títulos: uno como Desarrollador Full Stack y otro en la especialización elegida【14:1†source】【14:10†source】.\n",
      "\n",
      "### Metodología\n",
      "- **100% Online**: Flexibilidad para estudiar a tu ritmo.\n",
      "- **Creado por Profesionales en Activo**: El contenido es relevante y adaptado a las necesidades del mercado laboral.\n",
      "- **Prácticas y Proyectos**: Aprendizaje práctico a través de proyectos que facilitan la aplicación de lo aprendido en clases.\n",
      "\n",
      "### Apoyo Profesional\n",
      "- **Career & Talent**: Asesoramiento para la búsqueda de empleo, incluyendo la creación de CV y preparación para entrevistas. Se organizan eventos de networking con empresas colaboradoras como BBVA, Telefónica, Indra, entre otros【14:3†source】【14:10†source】.\n",
      "\n",
      "### Opciones de Pago\n",
      "- **Pago Único**\n",
      "- **Pago a Plazos**\n",
      "- **Pago al Encontrar Trabajo**: Puedes empezar a estudiar sin pagar nada hasta que consigas un empleo en el área【14:2†source】【14:10†source】.\n",
      "\n",
      "### Salidas Profesionales\n",
      "- Una vez completado el curso, podrás acceder a diferentes roles como:\n",
      "  - Desarrollador Frontend\n",
      "  - Desarrollador Backend\n",
      "  - Desarrollador Full Stack\n",
      "  - Especialista en IA\n",
      "  - Ingeniero en UX【14:3†source】【14:10†source】.\n",
      "\n",
      "Si tienes más preguntas o necesitas información específica sobre el proceso de inscripción, ¡estaré encantado de ayudarte!\n"
     ]
    }
   ],
   "source": [
    "message =\"Dame toda la información sobre el curso disponible de todos los cursos\"\n",
    "sp.process_data(openai_client, my_assistant.id, thread.id, message)"
   ]
  }
 ],
 "metadata": {
  "kernelspec": {
   "display_name": "Python 3",
   "language": "python",
   "name": "python3"
  },
  "language_info": {
   "codemirror_mode": {
    "name": "ipython",
    "version": 3
   },
   "file_extension": ".py",
   "mimetype": "text/x-python",
   "name": "python",
   "nbconvert_exporter": "python",
   "pygments_lexer": "ipython3",
   "version": "3.12.5"
  }
 },
 "nbformat": 4,
 "nbformat_minor": 2
}
