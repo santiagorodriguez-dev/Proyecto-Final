{
 "cells": [
  {
   "cell_type": "code",
   "execution_count": 1,
   "metadata": {},
   "outputs": [],
   "source": [
    "# Importaciones\n",
    "import pandas as pd\n",
    "import sys\n",
    "sys.path.append(\"../\")\n",
    "from src import support_open_ai as sp\n",
    "\n",
    "import warnings\n",
    "warnings.filterwarnings(\"ignore\")\n",
    "pd.set_option(\"display.max_columns\", None)\n",
    "%load_ext autoreload\n",
    "%autoreload 2"
   ]
  },
  {
   "cell_type": "code",
   "execution_count": 2,
   "metadata": {},
   "outputs": [],
   "source": [
    "openai_client = sp.init_openai()"
   ]
  },
  {
   "cell_type": "code",
   "execution_count": 3,
   "metadata": {},
   "outputs": [],
   "source": [
    "list_my_assistants = sp.list_asisstants(openai_client)"
   ]
  },
  {
   "cell_type": "code",
   "execution_count": 4,
   "metadata": {},
   "outputs": [],
   "source": [
    "my_assistant = sp.get_assistant(openai_client, \"asst_TDfesBRL8dtBCMOYDRYpleyD\")"
   ]
  },
  {
   "cell_type": "code",
   "execution_count": 5,
   "metadata": {},
   "outputs": [],
   "source": [
    "thread = sp.create_thread(openai_client)"
   ]
  },
  {
   "cell_type": "code",
   "execution_count": 6,
   "metadata": {},
   "outputs": [
    {
     "name": "stdout",
     "output_type": "stream",
     "text": [
      "Esperando a que se complete...\n",
      "Esperando a que se complete...\n",
      "se completó exitosamente.\n",
      "Thread ID: thread_Ho3TB2TPi63pChaCZzsUdlPn\n",
      "Run ID: run_SczJUMF5olzkoyiR36eEIEoM\n",
      "Run Status: completed\n",
      "Respuesta del asistente:\n",
      "Actualmente, tenemos disponible el siguiente curso:\n",
      "\n",
      "- **Curso de SEO**: \n",
      "  - **Duración**: 3 semanas\n",
      "  - **Costo**: 125€\n",
      "  - **Salidas profesionales**: Este curso ofrece oportunidades en el ámbito del marketing digital y optimización de motores de búsqueda.\n",
      "\n",
      "Si estás interesado en este curso o tienes otras necesidades de formación, ¡déjame saber y estaré encantado de ayudarte!\n"
     ]
    }
   ],
   "source": [
    "message =\"¿Que cursos hay disponibles?\"\n",
    "sp.process_data(openai_client, my_assistant.id, thread.id, message)"
   ]
  },
  {
   "cell_type": "code",
   "execution_count": 7,
   "metadata": {},
   "outputs": [
    {
     "name": "stdout",
     "output_type": "stream",
     "text": [
      "Esperando a que se complete...\n",
      "Esperando a que se complete...\n",
      "se completó exitosamente.\n",
      "Thread ID: thread_Ho3TB2TPi63pChaCZzsUdlPn\n",
      "Run ID: run_omsPSUjD2tyco36rG2mPLBGT\n",
      "Run Status: completed\n",
      "Respuesta del asistente:\n",
      "La inteligencia artificial (IA) es una rama de la informática que se centra en la creación de sistemas capaces de realizar tareas que normalmente requieren inteligencia humana. Esto incluye habilidades como el aprendizaje, el razonamiento, la percepción, la comprensión del lenguaje natural y la toma de decisiones. \n",
      "\n",
      "Existen diferentes tipos de IA, que van desde sistemas simples que realizan tareas específicas (IA débil) hasta sistemas más avanzados que pueden simular un comportamiento humano más general (IA fuerte). La IA se utiliza en una variedad de aplicaciones, como asistentes virtuales, sistemas de recomendación, análisis de datos y más.\n",
      "\n",
      "Si estás interesado en aprender más sobre la IA, podrías considerar cursos de formación relacionados. ¿Te gustaría saber más sobre cursos específicos en este ámbito?\n"
     ]
    }
   ],
   "source": [
    "message =\"¿Que es una IA?\"\n",
    "sp.process_data(openai_client, my_assistant.id, thread.id, message)"
   ]
  }
 ],
 "metadata": {
  "kernelspec": {
   "display_name": "Python 3",
   "language": "python",
   "name": "python3"
  },
  "language_info": {
   "codemirror_mode": {
    "name": "ipython",
    "version": 3
   },
   "file_extension": ".py",
   "mimetype": "text/x-python",
   "name": "python",
   "nbconvert_exporter": "python",
   "pygments_lexer": "ipython3",
   "version": "3.12.5"
  }
 },
 "nbformat": 4,
 "nbformat_minor": 2
}
