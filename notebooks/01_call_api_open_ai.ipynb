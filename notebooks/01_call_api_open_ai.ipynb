{
 "cells": [
  {
   "cell_type": "code",
   "execution_count": 1,
   "metadata": {},
   "outputs": [],
   "source": [
    "# Importaciones\n",
    "import pandas as pd\n",
    "import sys\n",
    "sys.path.append(\"../\")\n",
    "from src import support_open_ai as sp\n",
    "import os\n",
    "import dotenv # type: ignore\n",
    "dotenv.load_dotenv()\n",
    "\n",
    "import warnings\n",
    "warnings.filterwarnings(\"ignore\")\n",
    "pd.set_option(\"display.max_columns\", None)\n",
    "%load_ext autoreload\n",
    "%autoreload 2"
   ]
  },
  {
   "cell_type": "code",
   "execution_count": 2,
   "metadata": {},
   "outputs": [],
   "source": [
    "openai_client = sp.init_openai()"
   ]
  },
  {
   "cell_type": "code",
   "execution_count": 3,
   "metadata": {},
   "outputs": [],
   "source": [
    "list_my_assistants = sp.list_asisstants(openai_client)"
   ]
  },
  {
   "cell_type": "code",
   "execution_count": 4,
   "metadata": {},
   "outputs": [],
   "source": [
    "my_assistant = sp.get_assistant(openai_client, os.getenv(\"OPENAI_API_ASSIS\"))"
   ]
  },
  {
   "cell_type": "code",
   "execution_count": 5,
   "metadata": {},
   "outputs": [],
   "source": [
    "thread = sp.create_thread(openai_client)"
   ]
  },
  {
   "cell_type": "code",
   "execution_count": 6,
   "metadata": {},
   "outputs": [
    {
     "name": "stdout",
     "output_type": "stream",
     "text": [
      "Esperando a que se complete...\n",
      "se completó exitosamente.\n",
      "Thread ID: thread_caeaHlvqRMuwnHXLAkq1oxrD\n",
      "Run ID: run_OBIHi1p19kdeImmcAHF2evzk\n",
      "Run Status: completed\n",
      "Respuesta del asistente:\n",
      "¡Hola! ¿Cómo puedo ayudarte hoy? Si tienes preguntas sobre el curso de Desarrollador Full Stack, estaré encantado de responderlas.\n"
     ]
    }
   ],
   "source": [
    "message =\"Hola\"\n",
    "sp.process_data(openai_client, my_assistant.id, thread.id, message)"
   ]
  },
  {
   "cell_type": "code",
   "execution_count": 7,
   "metadata": {},
   "outputs": [
    {
     "name": "stdout",
     "output_type": "stream",
     "text": [
      "Esperando a que se complete...\n",
      "Esperando a que se complete...\n",
      "se completó exitosamente.\n",
      "Thread ID: thread_caeaHlvqRMuwnHXLAkq1oxrD\n",
      "Run ID: run_syTSYRuARqLzOczw3RLV3ngf\n",
      "Run Status: completed\n",
      "Respuesta del asistente:\n",
      "No encontré información específica sobre el precio del curso Desarrollador Full Stack en el documento. Sin embargo, puedo ayudarte a entender los beneficios y detalles del curso si estás interesado. ¿Te gustaría saber más sobre el contenido del curso o cómo funciona el proceso de inscripción?\n"
     ]
    }
   ],
   "source": [
    "message =\"precio del curso Desarrollador Full Stack\"\n",
    "sp.process_data(openai_client, my_assistant.id, thread.id, message)"
   ]
  },
  {
   "cell_type": "code",
   "execution_count": 8,
   "metadata": {},
   "outputs": [
    {
     "name": "stdout",
     "output_type": "stream",
     "text": [
      "Esperando a que se complete...\n",
      "Esperando a que se complete...\n",
      "Esperando a que se complete...\n",
      "Esperando a que se complete...\n",
      "Esperando a que se complete...\n",
      "se completó exitosamente.\n",
      "Thread ID: thread_caeaHlvqRMuwnHXLAkq1oxrD\n",
      "Run ID: run_w7ILjV9MUxkQSxAETa6r2aiU\n",
      "Run Status: completed\n",
      "Respuesta del asistente:\n",
      "Aquí tienes toda la información disponible sobre el curso de Desarrollador Full Stack:\n",
      "\n",
      "### Descripción del Curso\n",
      "El curso de Desarrollador Full Stack está diseñado para preparar a los estudiantes para una de las profesiones más demandadas en el mercado laboral actual. Este programa es impartido por desarrolladores en activo y se compone de más de 900 horas de contenido actualizado, incluyendo 100 horas de video y aproximadamente 800 horas de trabajo personal.\n",
      "\n",
      "### Duración\n",
      "- **Tiempo de finalización**: Entre 4 y 12 meses, dependiendo de la dedicación (5 a 7 horas diarias).\n",
      "- **Modalidad**: 100% online, lo que permite a los estudiantes avanzar a su propio ritmo.\n",
      "\n",
      "### Estructura del Curso\n",
      "El curso incluye varios módulos que cubren desde los conceptos básicos hasta técnicas avanzadas:\n",
      "1. **Módulo 0**: Conceptos del Desarrollo Web.\n",
      "2. **Módulo 1**: Arquitectura de la Información (HTML semántico).\n",
      "3. **Módulo 2**: Diseño de aplicaciones web (Tailwind y SCSS).\n",
      "4. **Módulo 3**: JavaScript (desde lo básico hasta programación asincrónica).\n",
      "5. **Módulo 4**: Manipulación del DOM y creación de componentes reutilizables.\n",
      "6. **Módulo 5**: Introducción a NodeJS.\n",
      "7. **Módulo 6**: Desarrollo Backend (APIs REST y gestión de bases de datos).\n",
      "8. **Módulo 7**: ReactJS (construcción de interfaces dinámicas).\n",
      "9. **Módulo 8**: Integración de tecnologías en Frontend.\n",
      "10. **Módulo 9**: Proyecto Full Stack.\n",
      "11. **Módulo 10**: Empleabilidad (preparación para el mercado laboral).\n",
      "12. **Módulo 11**: Clases en directo para reforzar el aprendizaje.\n",
      "\n",
      "### Especializaciones\n",
      "Al finalizar el curso, los estudiantes pueden elegir una especialización en:\n",
      "- IA Developer\n",
      "- Advanced Web Technologies\n",
      "- UX Engineer\n",
      "\n",
      "### Certificación\n",
      "Al completar el curso, recibirás dos títulos: uno como Desarrollador Full Stack y otro en la especialización elegida.\n",
      "\n",
      "### Metodología\n",
      "- **Clases en directo**: Interacción con instructores y compañeros.\n",
      "- **Evaluaciones constantes**: Pruebas al final de cada módulo para asegurar la comprensión de los conceptos.\n",
      "- **Flexibilidad**: El curso se adapta a la rutina del estudiante, lo que permite avanzar a su propio ritmo.\n",
      "\n",
      "### Salidas Profesionales\n",
      "Los graduados pueden acceder a una variedad de posiciones, incluyendo:\n",
      "- Desarrollador Full Stack\n",
      "- Desarrollador Frontend (JS, React, Angular)\n",
      "- Desarrollador Backend (NodeJS)\n",
      "- IA Developer\n",
      "- UX Engineer\n",
      "\n",
      "### Proceso de Inscripción\n",
      "1. **Acceso a clases de prueba**: Para evaluar si el curso se ajusta a tus necesidades.\n",
      "2. **Entrevista personal**: Asesoramiento para resolver dudas sobre el programa.\n",
      "3. **Opciones de pago**: Varias formas para facilitar la inscripción, incluyendo pago a plazos.\n",
      "\n",
      "Si tienes más preguntas o necesitas información adicional sobre el proceso de inscripción, ¡házmelo saber! Estoy aquí para ayudarte.\n"
     ]
    }
   ],
   "source": [
    "message =\"Dame toda la información sobre el curso disponible de todos los cursos\"\n",
    "sp.process_data(openai_client, my_assistant.id, thread.id, message)"
   ]
  },
  {
   "cell_type": "code",
   "execution_count": 9,
   "metadata": {},
   "outputs": [
    {
     "name": "stdout",
     "output_type": "stream",
     "text": [
      "Esperando a que se complete...\n",
      "se completó exitosamente.\n",
      "Thread ID: thread_caeaHlvqRMuwnHXLAkq1oxrD\n",
      "Run ID: run_dDJ73I5hs7joHkQ8Lf1KzK76\n",
      "Run Status: completed\n",
      "Respuesta del asistente:\n",
      "Lo siento, pero no tengo información sobre el curso de SEO. Solo puedo proporcionarte detalles sobre el curso de Desarrollador Full Stack. Si tienes preguntas específicas sobre ese curso, estaré encantado de ayudarte.\n"
     ]
    }
   ],
   "source": [
    "message =\"Dame toda la información sobre el curso de SEO\"\n",
    "sp.process_data(openai_client, my_assistant.id, thread.id, message)"
   ]
  }
 ],
 "metadata": {
  "kernelspec": {
   "display_name": "Python 3",
   "language": "python",
   "name": "python3"
  },
  "language_info": {
   "codemirror_mode": {
    "name": "ipython",
    "version": 3
   },
   "file_extension": ".py",
   "mimetype": "text/x-python",
   "name": "python",
   "nbconvert_exporter": "python",
   "pygments_lexer": "ipython3",
   "version": "3.12.5"
  }
 },
 "nbformat": 4,
 "nbformat_minor": 2
}
