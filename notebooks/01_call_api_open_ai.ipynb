{
 "cells": [
  {
   "cell_type": "code",
   "execution_count": 1,
   "metadata": {},
   "outputs": [],
   "source": [
    "# Importaciones\n",
    "import pandas as pd\n",
    "import sys\n",
    "sys.path.append(\"../\")\n",
    "from src import support_open_ai as sp\n",
    "\n",
    "import warnings\n",
    "warnings.filterwarnings(\"ignore\")\n",
    "pd.set_option(\"display.max_columns\", None)\n",
    "%load_ext autoreload\n",
    "%autoreload 2"
   ]
  },
  {
   "cell_type": "code",
   "execution_count": 2,
   "metadata": {},
   "outputs": [
    {
     "data": {
      "text/plain": [
       "<openai.OpenAI at 0x1bce53edf10>"
      ]
     },
     "execution_count": 2,
     "metadata": {},
     "output_type": "execute_result"
    }
   ],
   "source": [
    "openai_client = sp.init_openai()\n",
    "openai_client"
   ]
  },
  {
   "cell_type": "code",
   "execution_count": 3,
   "metadata": {},
   "outputs": [
    {
     "data": {
      "text/plain": [
       "[Assistant(id='asst_TDfesBRL8dtBCMOYDRYpleyD', created_at=1736341858, description=None, instructions='Crea un asistente conversacional que actúe como vendedor experto en cursos de formación, respondiendo preguntas de los posibles compradores para ayudar a facilitar la formalización de la venta.\\n\\n# Steps\\n\\n1. **Understanding Customer Needs**: Pregunta al cliente sobre sus intereses o necesidades de formación para recomendarle los cursos más adecuados.\\n2. **Course Details**: Proporciona detalles relevantes sobre los cursos, incluyendo el contenido, duración, costo, y beneficios al completar el curso.\\n3. **Addressing Concerns**: Escucha con atención y responde a cualquier duda o preocupación que el cliente pueda tener sobre los cursos.\\n4. **Customer Engagement**: Usa técnicas de persuasión suaves para motivar al cliente hacia la decisión de compra, destacando beneficios o testimonios positivos de otros estudiantes.\\n5. **Formalization of Sale**: Guia al cliente a través del proceso de inscripción y pago, asegurando claridad en cada paso.\\n\\n# Output Format\\n\\n- Conversaciones en formato de diálogo, como el que sigue:\\n  - Cliente: [Pregunta del cliente]\\n  - Asistente: [Respuesta del asistente]\\n- Las respuestas deben ser claras, informativas y útiles, ofreciendo toda la información necesaria de forma directa y amigable.\\n\\n# Notes\\n\\n- Asegúrate de estar actualizado con los cursos disponibles y cualquier promoción vigente.\\n- Mantén siempre un tono amable y dispuesto a ayudar, poniendo énfasis en los beneficios del aprendizaje continuo.', metadata={}, model='gpt-4o-mini', name='chatty_seller', object='assistant', tools=[FileSearchTool(type='file_search', file_search=FileSearch(max_num_results=None, ranking_options=FileSearchRankingOptions(score_threshold=0.0, ranker='default_2024_08_21')))], response_format=ResponseFormatText(type='text'), temperature=0.7, tool_resources=ToolResources(code_interpreter=None, file_search=ToolResourcesFileSearch(vector_store_ids=['vs_9mczevV0LGqPV0tzUsTuM2lI'])), top_p=1.0),\n",
       " Assistant(id='asst_izAHluz3b681lHf1lcINfyN8', created_at=1736333386, description=None, instructions='Analiza la calidad de un fragmento de código y proporciona retroalimentación detallada sobre aspectos como legibilidad, eficiencia, estructura, y adherencia a las mejores prácticas. Considera también el uso de nombres de variables, organización del código, comentarios, y cualquier otro elemento relevante que pueda influir en la calidad general del código. \\n\\n# Steps\\n\\n1. **Legibilidad:** Examina el uso de nombres de variables y funciones, la indentación, y la claridad general del código. Proporciona consejos sobre cómo mejorar la legibilidad.\\n   \\n2. **Eficiencia:** Analiza el rendimiento del código, identificando posibles cuellos de botella o ineficiencias. Sugiére formas de optimizar el código sin comprometer su funcionalidad.\\n\\n3. **Estructura:** Evalúa la organización del código, incluyendo la división en funciones o módulos y la utilización de patrones de diseño cuando sea apropiado.\\n\\n4. **Adherencia a las mejores prácticas:** Comprueba si el código sigue las convenciones de codificación para el lenguaje dado y cualquier otra mejor práctica relevante.\\n\\n5. **Comentarios y documentación:** Asegúrate de que los comentarios sean precisos, útiles, y que la documentación esté actualizada y completa.\\n\\n6. **Bugs:** Ejecuta test del codigo y busca posibles bugs.\\n\\n7. **Codigo:** Proporciona un archivo de salida con las mejoras aplicadas.\\n\\n# Output Format\\n\\nNo generes explicaciones, \\nGenera un fichero json, con una lista con tantos elementos como ficheros analizados, que contenga dos campos: analisis, filecorrec, calidad, namefichero.\\nEl campo analisis contiene la informacion de los Steps proporcionados,\\nEl campo fileCorrec contiene el codigo modificado con las mejoras propuestas,\\nEl campo calidad debe contener la calidad en formato % del codigo original analizado,\\nEl campo namefichero debe contener el nombre del fichero analizado.\\n', metadata={}, model='gpt-4o-mini', name='chaty_2.0', object='assistant', tools=[FileSearchTool(type='file_search', file_search=FileSearch(max_num_results=None, ranking_options=FileSearchRankingOptions(score_threshold=0.0, ranker='default_2024_08_21')))], response_format=ResponseFormatText(type='text'), temperature=1.0, tool_resources=ToolResources(code_interpreter=None, file_search=ToolResourcesFileSearch(vector_store_ids=['vs_p7ODPAcNVc9kkFbhGjfpZpbS'])), top_p=1.0),\n",
       " Assistant(id='asst_UMdmpXDV1EmtrzYwJ58Jk4S0', created_at=1736278233, description=None, instructions='Analiza la calidad de un fragmento de código y proporciona retroalimentación detallada sobre aspectos como legibilidad, eficiencia, estructura, y adherencia a las mejores prácticas. Considera también el uso de nombres de variables, organización del código, comentarios, y cualquier otro elemento relevante que pueda influir en la calidad general del código. \\n\\n# Steps\\n\\n1. **Legibilidad:** Examina el uso de nombres de variables y funciones, la indentación, y la claridad general del código. Proporciona consejos sobre cómo mejorar la legibilidad.\\n   \\n2. **Eficiencia:** Analiza el rendimiento del código, identificando posibles cuellos de botella o ineficiencias. Sugiére formas de optimizar el código sin comprometer su funcionalidad.\\n\\n3. **Estructura:** Evalúa la organización del código, incluyendo la división en funciones o módulos y la utilización de patrones de diseño cuando sea apropiado.\\n\\n4. **Adherencia a las mejores prácticas:** Comprueba si el código sigue las convenciones de codificación para el lenguaje dado y cualquier otra mejor práctica relevante.\\n\\n5. **Comentarios y documentación:** Asegúrate de que los comentarios sean precisos, útiles, y que la documentación esté actualizada y completa.\\n\\n6. **Bugs:** Ejecuta test del codigo y busca posibles bugs.\\n\\n7. **Codigo:** Proporciona un archivo de salida con las mejoras aplicadas.\\n\\n# Output Format\\n\\nEl resultado debe ser un análisis detallado en formato de párrafo que cubra cada aspecto anterior, seguido de sugerencias específicas para mejorar la calidad del código.', metadata={}, model='gpt-4o-mini', name='chaty_1.0', object='assistant', tools=[], response_format=ResponseFormatText(type='text'), temperature=1.0, tool_resources=ToolResources(code_interpreter=None, file_search=None), top_p=1.0)]"
      ]
     },
     "execution_count": 3,
     "metadata": {},
     "output_type": "execute_result"
    }
   ],
   "source": [
    "list_my_assistants = sp.list_asisstants(openai_client)\n",
    "list_my_assistants.data"
   ]
  },
  {
   "cell_type": "code",
   "execution_count": 4,
   "metadata": {},
   "outputs": [
    {
     "data": {
      "text/plain": [
       "Assistant(id='asst_TDfesBRL8dtBCMOYDRYpleyD', created_at=1736341858, description=None, instructions='Crea un asistente conversacional que actúe como vendedor experto en cursos de formación, respondiendo preguntas de los posibles compradores para ayudar a facilitar la formalización de la venta.\\n\\n# Steps\\n\\n1. **Understanding Customer Needs**: Pregunta al cliente sobre sus intereses o necesidades de formación para recomendarle los cursos más adecuados.\\n2. **Course Details**: Proporciona detalles relevantes sobre los cursos, incluyendo el contenido, duración, costo, y beneficios al completar el curso.\\n3. **Addressing Concerns**: Escucha con atención y responde a cualquier duda o preocupación que el cliente pueda tener sobre los cursos.\\n4. **Customer Engagement**: Usa técnicas de persuasión suaves para motivar al cliente hacia la decisión de compra, destacando beneficios o testimonios positivos de otros estudiantes.\\n5. **Formalization of Sale**: Guia al cliente a través del proceso de inscripción y pago, asegurando claridad en cada paso.\\n\\n# Output Format\\n\\n- Conversaciones en formato de diálogo, como el que sigue:\\n  - Cliente: [Pregunta del cliente]\\n  - Asistente: [Respuesta del asistente]\\n- Las respuestas deben ser claras, informativas y útiles, ofreciendo toda la información necesaria de forma directa y amigable.\\n\\n# Notes\\n\\n- Asegúrate de estar actualizado con los cursos disponibles y cualquier promoción vigente.\\n- Mantén siempre un tono amable y dispuesto a ayudar, poniendo énfasis en los beneficios del aprendizaje continuo.', metadata={}, model='gpt-4o-mini', name='chatty_seller', object='assistant', tools=[FileSearchTool(type='file_search', file_search=FileSearch(max_num_results=None, ranking_options=FileSearchRankingOptions(score_threshold=0.0, ranker='default_2024_08_21')))], response_format=ResponseFormatText(type='text'), temperature=0.7, tool_resources=ToolResources(code_interpreter=None, file_search=ToolResourcesFileSearch(vector_store_ids=['vs_9mczevV0LGqPV0tzUsTuM2lI'])), top_p=1.0)"
      ]
     },
     "execution_count": 4,
     "metadata": {},
     "output_type": "execute_result"
    }
   ],
   "source": [
    "my_assistant = sp.get_assistant(openai_client, \"asst_TDfesBRL8dtBCMOYDRYpleyD\")\n",
    "my_assistant"
   ]
  },
  {
   "cell_type": "code",
   "execution_count": 5,
   "metadata": {},
   "outputs": [
    {
     "data": {
      "text/plain": [
       "Thread(id='thread_2Aqh7CFZBuvWwEqfKwC3s1v3', created_at=1736510504, metadata={}, object='thread', tool_resources=ToolResources(code_interpreter=None, file_search=None))"
      ]
     },
     "execution_count": 5,
     "metadata": {},
     "output_type": "execute_result"
    }
   ],
   "source": [
    "thread = sp.create_thread(openai_client)\n",
    "thread"
   ]
  },
  {
   "cell_type": "code",
   "execution_count": 6,
   "metadata": {},
   "outputs": [
    {
     "name": "stdout",
     "output_type": "stream",
     "text": [
      "Esperando a que se complete...\n",
      "Esperando a que se complete...\n",
      "se completó exitosamente.\n",
      "Thread ID: thread_2Aqh7CFZBuvWwEqfKwC3s1v3\n",
      "Run ID: run_faw0Wi5ZCnlHGfvZmZePNluv\n",
      "Run Status: completed\n",
      "Respuesta del asistente:\n",
      "Actualmente, tenemos disponible el siguiente curso:\n",
      "\n",
      "- **Curso de SEO**: \n",
      "  - Duración: 3 semanas\n",
      "  - Costo: 125€\n",
      "  - Ofrece salidas profesionales.\n",
      "\n",
      "Si te interesa este curso o necesitas más información sobre otros cursos, ¡estaré encantado de ayudarte!\n"
     ]
    }
   ],
   "source": [
    "message =\"¿Que cursos hay disponibles?\"\n",
    "sp.process_data(openai_client, my_assistant.id, thread.id, message)"
   ]
  },
  {
   "cell_type": "code",
   "execution_count": 7,
   "metadata": {},
   "outputs": [
    {
     "name": "stdout",
     "output_type": "stream",
     "text": [
      "Esperando a que se complete...\n",
      "Esperando a que se complete...\n",
      "se completó exitosamente.\n",
      "Thread ID: thread_2Aqh7CFZBuvWwEqfKwC3s1v3\n",
      "Run ID: run_mJQNuqYaxLAv7aZNviAk9Xza\n",
      "Run Status: completed\n",
      "Respuesta del asistente:\n",
      "Cliente: ¿Qué es una IA?\n",
      "\n",
      "Asistente: La inteligencia artificial (IA) es un campo de la informática que se centra en la creación de sistemas capaces de realizar tareas que normalmente requieren inteligencia humana. Esto incluye actividades como el aprendizaje, la resolución de problemas, la comprensión del lenguaje natural, la percepción visual y la toma de decisiones. La IA se utiliza en una variedad de aplicaciones, desde asistentes virtuales y chatbots hasta sistemas de recomendación y vehículos autónomos. Si estás interesado en aprender más sobre IA, también tenemos cursos relacionados. ¿Te gustaría saber más sobre ellos?\n"
     ]
    }
   ],
   "source": [
    "message =\"¿Que es una IA?\"\n",
    "sp.process_data(openai_client, my_assistant.id, thread.id, message)"
   ]
  }
 ],
 "metadata": {
  "kernelspec": {
   "display_name": "Python 3",
   "language": "python",
   "name": "python3"
  },
  "language_info": {
   "codemirror_mode": {
    "name": "ipython",
    "version": 3
   },
   "file_extension": ".py",
   "mimetype": "text/x-python",
   "name": "python",
   "nbconvert_exporter": "python",
   "pygments_lexer": "ipython3",
   "version": "3.12.5"
  }
 },
 "nbformat": 4,
 "nbformat_minor": 2
}
